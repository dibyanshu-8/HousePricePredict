{
 "cells": [
  {
   "cell_type": "code",
   "execution_count": 1,
   "id": "8db7c0ef-3edf-4d48-9e8f-52a490d72496",
   "metadata": {},
   "outputs": [],
   "source": [
    "import copy,math\n",
    "import numpy as np\n",
    "import matplotlib.pyplot as plt\n",
    "np.set_printoptions(precision=2)"
   ]
  },
  {
   "cell_type": "code",
   "execution_count": 2,
   "id": "c7618d53-8994-4bb2-addc-6becd3b3a547",
   "metadata": {},
   "outputs": [],
   "source": [
    "x_train=np.array([[2104,5,1,45],[1416,3,2,40],[852,2,1,35]])\n",
    "y_train=np.array([460,232,178])"
   ]
  },
  {
   "cell_type": "code",
   "execution_count": 5,
   "id": "868b1457-9ff5-461e-84ad-325959fc54a3",
   "metadata": {},
   "outputs": [
    {
     "name": "stdout",
     "output_type": "stream",
     "text": [
      "X shape:(3, 4)\n",
      "[[2104    5    1   45]\n",
      " [1416    3    2   40]\n",
      " [ 852    2    1   35]]\n",
      "X shape:(3,)\n",
      "[460 232 178]\n"
     ]
    }
   ],
   "source": [
    "print(f\"X shape:{x_train.shape}\")\n",
    "print(x_train)\n",
    "print(f\"X shape:{y_train.shape}\")\n",
    "print(y_train)"
   ]
  },
  {
   "cell_type": "code",
   "execution_count": 6,
   "id": "50704500-075b-40e9-9eae-6fde2c801aec",
   "metadata": {},
   "outputs": [
    {
     "name": "stdout",
     "output_type": "stream",
     "text": [
      "w_initial shape:(4,) ,b_initial type:<class 'float'>\n"
     ]
    }
   ],
   "source": [
    "b_initial=785.1811367994083\n",
    "w_initial=np.array([ 0.39133535, 18.75376741, -53.36032453, -26.42131618])\n",
    "print(f\"w_initial shape:{w_initial.shape} ,b_initial type:{type(b_initial)}\")"
   ]
  },
  {
   "cell_type": "markdown",
   "id": "62c0fe2e",
   "metadata": {},
   "source": [
    "Now Let's do prediction using linear regression model for multiple features(f(w,b)x=wx+b)"
   ]
  },
  {
   "cell_type": "code",
   "execution_count": 8,
   "id": "fd9b2fba-31d8-492b-ac6a-5e295be6ce9f",
   "metadata": {},
   "outputs": [],
   "source": [
    "def predict(w,x,b): #we have initialized a predict function which takes parameters as w,x(vectorized form of x),b\n",
    "    p=np.dot(w,x)+b\n",
    "    return p"
   ]
  },
  {
   "cell_type": "code",
   "execution_count": 12,
   "id": "44f3a17e-2b90-46de-90dd-d06baac03a84",
   "metadata": {},
   "outputs": [
    {
     "name": "stdout",
     "output_type": "stream",
     "text": [
      "[2104    5    1   45]\n",
      "459.9999976194083\n"
     ]
    }
   ],
   "source": [
    "x_vector=x_train[0,:] #getting a row from my training data.here 0 means i am trying to access first training dataset\n",
    "print(x_vector)\n",
    "f_wb=predict(w_initial,x_vector,b_initial) #function call to predict function\n",
    "print(f_wb)"
   ]
  },
  {
   "cell_type": "markdown",
   "id": "8f5c21a7",
   "metadata": {},
   "source": [
    "Now let's calculate cost function or simply called error(squared error) between prediction value & actual value"
   ]
  },
  {
   "cell_type": "code",
   "execution_count": 37,
   "id": "35da26c8",
   "metadata": {},
   "outputs": [],
   "source": [
    "def cost_calculation(w,x,b,y):\n",
    "    m=len(y)\n",
    "    cost=0.0\n",
    "    for i in range(m):\n",
    "        f_wb_i=np.dot(x[i],w)+b\n",
    "        cost=cost+(f_wb_i-y[i])**2\n",
    "    cost=cost/(2*m)\n",
    "    return cost\n",
    "\n",
    "        "
   ]
  },
  {
   "cell_type": "code",
   "execution_count": 38,
   "id": "1cd2822d",
   "metadata": {},
   "outputs": [
    {
     "name": "stdout",
     "output_type": "stream",
     "text": [
      "error at optimal w is : 1.5578904428966628e-12\n"
     ]
    }
   ],
   "source": [
    "error=cost_calculation(w_initial,x_train,b_initial,y_train)\n",
    "print(f\"error at optimal w is : {error}\")"
   ]
  },
  {
   "cell_type": "markdown",
   "id": "bad3b31d",
   "metadata": {},
   "source": [
    "Now Let's calculate gradient descent to minimize this cost function or squared error function."
   ]
  },
  {
   "cell_type": "code",
   "execution_count": 39,
   "id": "b37a3380",
   "metadata": {},
   "outputs": [],
   "source": [
    "def gradient(w,x,y,b):\n",
    "    m,n=x.shape\n",
    "    dj_dw=np.zeros((n,)) #it means it create a vector of n length with zeros inside initialized\n",
    "    dj_db=0\n",
    "    \n",
    "    for i in range(m):\n",
    "        err=(np.dot(w,x[i])+b)-y[i]\n",
    "        for j in range(n):\n",
    "            dj_dw[j]=dj_dw[j]+err*x[i][j]\n",
    "        dj_db=dj_db+err\n",
    "        \n",
    "    dj_dw=dj_dw/m\n",
    "    dj_db=dj_db/m\n",
    "    \n",
    "    return dj_dw,dj_db\n",
    "            "
   ]
  },
  {
   "cell_type": "code",
   "execution_count": 40,
   "id": "f44f94fe",
   "metadata": {},
   "outputs": [
    {
     "name": "stdout",
     "output_type": "stream",
     "text": [
      "initial value of gradient of cost function w.r.t w is : [-2.73e-03 -6.27e-06 -2.22e-06 -6.92e-05]\n",
      "inital value of gradient of cost function w.r.t b is : -1.6739251501955248e-06\n"
     ]
    }
   ],
   "source": [
    "dj_dw_initial,dj_db_initial=gradient(w_initial,x_train,y_train,b_initial)\n",
    "\n",
    "print(f\"initial value of gradient of cost function w.r.t w is : {dj_dw_initial}\")\n",
    "print(f\"inital value of gradient of cost function w.r.t b is : {dj_db_initial}\")"
   ]
  },
  {
   "cell_type": "code",
   "execution_count": 43,
   "id": "053bb50e",
   "metadata": {},
   "outputs": [],
   "source": [
    "def gradient_descent(w_in,x,y,b_in,gradient_calculate,cost_cal,alpha,num_iters):\n",
    "    #num_iters=number of iterations to run for gradient descent\n",
    "    \n",
    "    #j_history=[] #creating an array to store the value of j(cost function) in each iteration\n",
    "    w=copy.deepcopy(w_in) #avoid modifying global w inside the function (for simultaneous updates)\n",
    "    b=b_in\n",
    "    \n",
    "    for i in range(num_iters):\n",
    "        dj_dw,dj_db=gradient(w,x,y,b)\n",
    "        \n",
    "        w=w-alpha*dj_dw\n",
    "        b=b-alpha*dj_db\n",
    "        \n",
    "        ''' if i<100000:\n",
    "            j_history.append(cost_cal(w,x,y,b)) '''\n",
    "            \n",
    "    return w,b\n",
    "    \n",
    "    \n",
    "    \n",
    "    "
   ]
  },
  {
   "cell_type": "code",
   "execution_count": 45,
   "id": "1715334e",
   "metadata": {},
   "outputs": [
    {
     "name": "stdout",
     "output_type": "stream",
     "text": [
      "b,w found by gradient descent: -0.00,[ 0.2   0.   -0.01 -0.07] \n",
      "prediction: 426.19, target value: 460\n",
      "prediction: 286.17, target value: 232\n",
      "prediction: 171.47, target value: 178\n"
     ]
    }
   ],
   "source": [
    "w_init=np.zeros_like(w_initial)\n",
    "b_init=0\n",
    "iterations=1000\n",
    "alpha = 5.0e-7\n",
    "\n",
    "#now run the gradient descent function\n",
    "w_final,b_final=gradient_descent(w_init,x_train,y_train,b_init,gradient,cost_calculation,alpha,iterations)\n",
    "print(f\"b,w found by gradient descent: {b_final:0.2f},{w_final} \")\n",
    "m,_ = x_train.shape\n",
    "for i in range(m):\n",
    "    print(f\"prediction: {np.dot(x_train[i], w_final) + b_final:0.2f}, target value: {y_train[i]}\")\n",
    "    "
   ]
  },
  {
   "cell_type": "code",
   "execution_count": null,
   "id": "24a81351",
   "metadata": {},
   "outputs": [],
   "source": []
  }
 ],
 "metadata": {
  "kernelspec": {
   "display_name": "Python 3 (ipykernel)",
   "language": "python",
   "name": "python3"
  },
  "language_info": {
   "codemirror_mode": {
    "name": "ipython",
    "version": 3
   },
   "file_extension": ".py",
   "mimetype": "text/x-python",
   "name": "python",
   "nbconvert_exporter": "python",
   "pygments_lexer": "ipython3",
   "version": "3.12.3"
  }
 },
 "nbformat": 4,
 "nbformat_minor": 5
}
